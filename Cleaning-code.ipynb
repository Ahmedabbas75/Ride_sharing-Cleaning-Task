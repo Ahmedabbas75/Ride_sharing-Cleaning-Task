{
 "cells": [
  {
   "cell_type": "markdown",
   "id": "044cb748",
   "metadata": {},
   "source": [
    "### 1- Loading Data & Libraries"
   ]
  },
  {
   "cell_type": "code",
   "execution_count": 4,
   "id": "81092a96",
   "metadata": {},
   "outputs": [],
   "source": [
    "import pandas as pd\n",
    "import numpy as np\n",
    "import matplotlib.pyplot as plt"
   ]
  },
  {
   "cell_type": "code",
   "execution_count": 5,
   "id": "6332e357",
   "metadata": {},
   "outputs": [],
   "source": [
    "data = pd.read_csv(\"ride_sharing_new.csv\")"
   ]
  },
  {
   "cell_type": "markdown",
   "id": "d07426de",
   "metadata": {},
   "source": [
    "### Show Sample Of Data"
   ]
  },
  {
   "cell_type": "code",
   "execution_count": 6,
   "id": "ca51eec6",
   "metadata": {},
   "outputs": [
    {
     "data": {
      "text/html": [
       "<div>\n",
       "<style scoped>\n",
       "    .dataframe tbody tr th:only-of-type {\n",
       "        vertical-align: middle;\n",
       "    }\n",
       "\n",
       "    .dataframe tbody tr th {\n",
       "        vertical-align: top;\n",
       "    }\n",
       "\n",
       "    .dataframe thead th {\n",
       "        text-align: right;\n",
       "    }\n",
       "</style>\n",
       "<table border=\"1\" class=\"dataframe\">\n",
       "  <thead>\n",
       "    <tr style=\"text-align: right;\">\n",
       "      <th></th>\n",
       "      <th>Unnamed: 0</th>\n",
       "      <th>duration</th>\n",
       "      <th>station_A_id</th>\n",
       "      <th>station_A_name</th>\n",
       "      <th>station_B_id</th>\n",
       "      <th>station_B_name</th>\n",
       "      <th>bike_id</th>\n",
       "      <th>user_type</th>\n",
       "      <th>user_birth_year</th>\n",
       "      <th>user_gender</th>\n",
       "    </tr>\n",
       "  </thead>\n",
       "  <tbody>\n",
       "    <tr>\n",
       "      <th>0</th>\n",
       "      <td>0</td>\n",
       "      <td>12 minutes</td>\n",
       "      <td>81</td>\n",
       "      <td>Berry St at 4th St</td>\n",
       "      <td>323</td>\n",
       "      <td>Broadway at Kearny</td>\n",
       "      <td>5480</td>\n",
       "      <td>2</td>\n",
       "      <td>1959</td>\n",
       "      <td>Male</td>\n",
       "    </tr>\n",
       "    <tr>\n",
       "      <th>1</th>\n",
       "      <td>1</td>\n",
       "      <td>24 minutes</td>\n",
       "      <td>3</td>\n",
       "      <td>Powell St BART Station (Market St at 4th St)</td>\n",
       "      <td>118</td>\n",
       "      <td>Eureka Valley Recreation Center</td>\n",
       "      <td>5193</td>\n",
       "      <td>2</td>\n",
       "      <td>1965</td>\n",
       "      <td>Male</td>\n",
       "    </tr>\n",
       "    <tr>\n",
       "      <th>2</th>\n",
       "      <td>2</td>\n",
       "      <td>8 minutes</td>\n",
       "      <td>67</td>\n",
       "      <td>San Francisco Caltrain Station 2  (Townsend St...</td>\n",
       "      <td>23</td>\n",
       "      <td>The Embarcadero at Steuart St</td>\n",
       "      <td>3652</td>\n",
       "      <td>3</td>\n",
       "      <td>1993</td>\n",
       "      <td>Male</td>\n",
       "    </tr>\n",
       "    <tr>\n",
       "      <th>3</th>\n",
       "      <td>3</td>\n",
       "      <td>4 minutes</td>\n",
       "      <td>16</td>\n",
       "      <td>Steuart St at Market St</td>\n",
       "      <td>28</td>\n",
       "      <td>The Embarcadero at Bryant St</td>\n",
       "      <td>1883</td>\n",
       "      <td>1</td>\n",
       "      <td>1979</td>\n",
       "      <td>Male</td>\n",
       "    </tr>\n",
       "    <tr>\n",
       "      <th>4</th>\n",
       "      <td>4</td>\n",
       "      <td>11 minutes</td>\n",
       "      <td>22</td>\n",
       "      <td>Howard St at Beale St</td>\n",
       "      <td>350</td>\n",
       "      <td>8th St at Brannan St</td>\n",
       "      <td>4626</td>\n",
       "      <td>2</td>\n",
       "      <td>1994</td>\n",
       "      <td>Male</td>\n",
       "    </tr>\n",
       "  </tbody>\n",
       "</table>\n",
       "</div>"
      ],
      "text/plain": [
       "   Unnamed: 0    duration  station_A_id  \\\n",
       "0           0  12 minutes            81   \n",
       "1           1  24 minutes             3   \n",
       "2           2   8 minutes            67   \n",
       "3           3   4 minutes            16   \n",
       "4           4  11 minutes            22   \n",
       "\n",
       "                                      station_A_name  station_B_id  \\\n",
       "0                                 Berry St at 4th St           323   \n",
       "1       Powell St BART Station (Market St at 4th St)           118   \n",
       "2  San Francisco Caltrain Station 2  (Townsend St...            23   \n",
       "3                            Steuart St at Market St            28   \n",
       "4                              Howard St at Beale St           350   \n",
       "\n",
       "                    station_B_name  bike_id  user_type  user_birth_year  \\\n",
       "0               Broadway at Kearny     5480          2             1959   \n",
       "1  Eureka Valley Recreation Center     5193          2             1965   \n",
       "2    The Embarcadero at Steuart St     3652          3             1993   \n",
       "3     The Embarcadero at Bryant St     1883          1             1979   \n",
       "4             8th St at Brannan St     4626          2             1994   \n",
       "\n",
       "  user_gender  \n",
       "0        Male  \n",
       "1        Male  \n",
       "2        Male  \n",
       "3        Male  \n",
       "4        Male  "
      ]
     },
     "execution_count": 6,
     "metadata": {},
     "output_type": "execute_result"
    }
   ],
   "source": [
    "data.head()"
   ]
  },
  {
   "cell_type": "code",
   "execution_count": 7,
   "id": "ca16a674",
   "metadata": {},
   "outputs": [
    {
     "data": {
      "text/html": [
       "<div>\n",
       "<style scoped>\n",
       "    .dataframe tbody tr th:only-of-type {\n",
       "        vertical-align: middle;\n",
       "    }\n",
       "\n",
       "    .dataframe tbody tr th {\n",
       "        vertical-align: top;\n",
       "    }\n",
       "\n",
       "    .dataframe thead th {\n",
       "        text-align: right;\n",
       "    }\n",
       "</style>\n",
       "<table border=\"1\" class=\"dataframe\">\n",
       "  <thead>\n",
       "    <tr style=\"text-align: right;\">\n",
       "      <th></th>\n",
       "      <th>Unnamed: 0</th>\n",
       "      <th>duration</th>\n",
       "      <th>station_A_id</th>\n",
       "      <th>station_A_name</th>\n",
       "      <th>station_B_id</th>\n",
       "      <th>station_B_name</th>\n",
       "      <th>bike_id</th>\n",
       "      <th>user_type</th>\n",
       "      <th>user_birth_year</th>\n",
       "      <th>user_gender</th>\n",
       "    </tr>\n",
       "  </thead>\n",
       "  <tbody>\n",
       "    <tr>\n",
       "      <th>25755</th>\n",
       "      <td>25755</td>\n",
       "      <td>11 minutes</td>\n",
       "      <td>15</td>\n",
       "      <td>San Francisco Ferry Building (Harry Bridges Pl...</td>\n",
       "      <td>34</td>\n",
       "      <td>Father Alfred E Boeddeker Park</td>\n",
       "      <td>5063</td>\n",
       "      <td>1</td>\n",
       "      <td>2000</td>\n",
       "      <td>Male</td>\n",
       "    </tr>\n",
       "    <tr>\n",
       "      <th>25756</th>\n",
       "      <td>25756</td>\n",
       "      <td>10 minutes</td>\n",
       "      <td>15</td>\n",
       "      <td>San Francisco Ferry Building (Harry Bridges Pl...</td>\n",
       "      <td>34</td>\n",
       "      <td>Father Alfred E Boeddeker Park</td>\n",
       "      <td>5411</td>\n",
       "      <td>2</td>\n",
       "      <td>1998</td>\n",
       "      <td>Male</td>\n",
       "    </tr>\n",
       "    <tr>\n",
       "      <th>25757</th>\n",
       "      <td>25757</td>\n",
       "      <td>14 minutes</td>\n",
       "      <td>15</td>\n",
       "      <td>San Francisco Ferry Building (Harry Bridges Pl...</td>\n",
       "      <td>42</td>\n",
       "      <td>San Francisco City Hall (Polk St at Grove St)</td>\n",
       "      <td>5157</td>\n",
       "      <td>2</td>\n",
       "      <td>1995</td>\n",
       "      <td>Male</td>\n",
       "    </tr>\n",
       "    <tr>\n",
       "      <th>25758</th>\n",
       "      <td>25758</td>\n",
       "      <td>14 minutes</td>\n",
       "      <td>15</td>\n",
       "      <td>San Francisco Ferry Building (Harry Bridges Pl...</td>\n",
       "      <td>42</td>\n",
       "      <td>San Francisco City Hall (Polk St at Grove St)</td>\n",
       "      <td>4438</td>\n",
       "      <td>2</td>\n",
       "      <td>1995</td>\n",
       "      <td>Male</td>\n",
       "    </tr>\n",
       "    <tr>\n",
       "      <th>25759</th>\n",
       "      <td>25759</td>\n",
       "      <td>29 minutes</td>\n",
       "      <td>16</td>\n",
       "      <td>Steuart St at Market St</td>\n",
       "      <td>115</td>\n",
       "      <td>Jackson Playground</td>\n",
       "      <td>1705</td>\n",
       "      <td>3</td>\n",
       "      <td>1990</td>\n",
       "      <td>Male</td>\n",
       "    </tr>\n",
       "  </tbody>\n",
       "</table>\n",
       "</div>"
      ],
      "text/plain": [
       "       Unnamed: 0    duration  station_A_id  \\\n",
       "25755       25755  11 minutes            15   \n",
       "25756       25756  10 minutes            15   \n",
       "25757       25757  14 minutes            15   \n",
       "25758       25758  14 minutes            15   \n",
       "25759       25759  29 minutes            16   \n",
       "\n",
       "                                          station_A_name  station_B_id  \\\n",
       "25755  San Francisco Ferry Building (Harry Bridges Pl...            34   \n",
       "25756  San Francisco Ferry Building (Harry Bridges Pl...            34   \n",
       "25757  San Francisco Ferry Building (Harry Bridges Pl...            42   \n",
       "25758  San Francisco Ferry Building (Harry Bridges Pl...            42   \n",
       "25759                            Steuart St at Market St           115   \n",
       "\n",
       "                                      station_B_name  bike_id  user_type  \\\n",
       "25755                 Father Alfred E Boeddeker Park     5063          1   \n",
       "25756                 Father Alfred E Boeddeker Park     5411          2   \n",
       "25757  San Francisco City Hall (Polk St at Grove St)     5157          2   \n",
       "25758  San Francisco City Hall (Polk St at Grove St)     4438          2   \n",
       "25759                             Jackson Playground     1705          3   \n",
       "\n",
       "       user_birth_year user_gender  \n",
       "25755             2000        Male  \n",
       "25756             1998        Male  \n",
       "25757             1995        Male  \n",
       "25758             1995        Male  \n",
       "25759             1990        Male  "
      ]
     },
     "execution_count": 7,
     "metadata": {},
     "output_type": "execute_result"
    }
   ],
   "source": [
    "data.tail()"
   ]
  },
  {
   "cell_type": "code",
   "execution_count": 8,
   "id": "6f294d6d",
   "metadata": {},
   "outputs": [
    {
     "data": {
      "text/plain": [
       "(25760, 10)"
      ]
     },
     "execution_count": 8,
     "metadata": {},
     "output_type": "execute_result"
    }
   ],
   "source": [
    "data.shape"
   ]
  },
  {
   "cell_type": "markdown",
   "id": "fe4758c7",
   "metadata": {},
   "source": [
    "### Show More Info :"
   ]
  },
  {
   "cell_type": "code",
   "execution_count": 9,
   "id": "4e810d3d",
   "metadata": {},
   "outputs": [
    {
     "name": "stdout",
     "output_type": "stream",
     "text": [
      "<class 'pandas.core.frame.DataFrame'>\n",
      "RangeIndex: 25760 entries, 0 to 25759\n",
      "Data columns (total 10 columns):\n",
      " #   Column           Non-Null Count  Dtype \n",
      "---  ------           --------------  ----- \n",
      " 0   Unnamed: 0       25760 non-null  int64 \n",
      " 1   duration         25760 non-null  object\n",
      " 2   station_A_id     25760 non-null  int64 \n",
      " 3   station_A_name   25760 non-null  object\n",
      " 4   station_B_id     25760 non-null  int64 \n",
      " 5   station_B_name   25760 non-null  object\n",
      " 6   bike_id          25760 non-null  int64 \n",
      " 7   user_type        25760 non-null  int64 \n",
      " 8   user_birth_year  25760 non-null  int64 \n",
      " 9   user_gender      25760 non-null  object\n",
      "dtypes: int64(6), object(4)\n",
      "memory usage: 2.0+ MB\n"
     ]
    }
   ],
   "source": [
    "data.info()"
   ]
  },
  {
   "cell_type": "code",
   "execution_count": 10,
   "id": "a059ec2e",
   "metadata": {},
   "outputs": [
    {
     "data": {
      "text/html": [
       "<div>\n",
       "<style scoped>\n",
       "    .dataframe tbody tr th:only-of-type {\n",
       "        vertical-align: middle;\n",
       "    }\n",
       "\n",
       "    .dataframe tbody tr th {\n",
       "        vertical-align: top;\n",
       "    }\n",
       "\n",
       "    .dataframe thead th {\n",
       "        text-align: right;\n",
       "    }\n",
       "</style>\n",
       "<table border=\"1\" class=\"dataframe\">\n",
       "  <thead>\n",
       "    <tr style=\"text-align: right;\">\n",
       "      <th></th>\n",
       "      <th>Unnamed: 0</th>\n",
       "      <th>station_A_id</th>\n",
       "      <th>station_B_id</th>\n",
       "      <th>bike_id</th>\n",
       "      <th>user_type</th>\n",
       "      <th>user_birth_year</th>\n",
       "    </tr>\n",
       "  </thead>\n",
       "  <tbody>\n",
       "    <tr>\n",
       "      <th>count</th>\n",
       "      <td>25760.000000</td>\n",
       "      <td>25760.000000</td>\n",
       "      <td>25760.000000</td>\n",
       "      <td>25760.000000</td>\n",
       "      <td>25760.000000</td>\n",
       "      <td>25760.000000</td>\n",
       "    </tr>\n",
       "    <tr>\n",
       "      <th>mean</th>\n",
       "      <td>12879.500000</td>\n",
       "      <td>31.023602</td>\n",
       "      <td>89.558579</td>\n",
       "      <td>4107.621467</td>\n",
       "      <td>2.008385</td>\n",
       "      <td>1983.054969</td>\n",
       "    </tr>\n",
       "    <tr>\n",
       "      <th>std</th>\n",
       "      <td>7436.415803</td>\n",
       "      <td>26.409263</td>\n",
       "      <td>105.144103</td>\n",
       "      <td>1576.315767</td>\n",
       "      <td>0.704541</td>\n",
       "      <td>10.010992</td>\n",
       "    </tr>\n",
       "    <tr>\n",
       "      <th>min</th>\n",
       "      <td>0.000000</td>\n",
       "      <td>3.000000</td>\n",
       "      <td>3.000000</td>\n",
       "      <td>11.000000</td>\n",
       "      <td>1.000000</td>\n",
       "      <td>1901.000000</td>\n",
       "    </tr>\n",
       "    <tr>\n",
       "      <th>25%</th>\n",
       "      <td>6439.750000</td>\n",
       "      <td>15.000000</td>\n",
       "      <td>21.000000</td>\n",
       "      <td>3106.000000</td>\n",
       "      <td>2.000000</td>\n",
       "      <td>1978.000000</td>\n",
       "    </tr>\n",
       "    <tr>\n",
       "      <th>50%</th>\n",
       "      <td>12879.500000</td>\n",
       "      <td>21.000000</td>\n",
       "      <td>58.000000</td>\n",
       "      <td>4821.000000</td>\n",
       "      <td>2.000000</td>\n",
       "      <td>1985.000000</td>\n",
       "    </tr>\n",
       "    <tr>\n",
       "      <th>75%</th>\n",
       "      <td>19319.250000</td>\n",
       "      <td>67.000000</td>\n",
       "      <td>93.000000</td>\n",
       "      <td>5257.000000</td>\n",
       "      <td>3.000000</td>\n",
       "      <td>1990.000000</td>\n",
       "    </tr>\n",
       "    <tr>\n",
       "      <th>max</th>\n",
       "      <td>25759.000000</td>\n",
       "      <td>81.000000</td>\n",
       "      <td>383.000000</td>\n",
       "      <td>6638.000000</td>\n",
       "      <td>3.000000</td>\n",
       "      <td>2001.000000</td>\n",
       "    </tr>\n",
       "  </tbody>\n",
       "</table>\n",
       "</div>"
      ],
      "text/plain": [
       "         Unnamed: 0  station_A_id  station_B_id       bike_id     user_type  \\\n",
       "count  25760.000000  25760.000000  25760.000000  25760.000000  25760.000000   \n",
       "mean   12879.500000     31.023602     89.558579   4107.621467      2.008385   \n",
       "std     7436.415803     26.409263    105.144103   1576.315767      0.704541   \n",
       "min        0.000000      3.000000      3.000000     11.000000      1.000000   \n",
       "25%     6439.750000     15.000000     21.000000   3106.000000      2.000000   \n",
       "50%    12879.500000     21.000000     58.000000   4821.000000      2.000000   \n",
       "75%    19319.250000     67.000000     93.000000   5257.000000      3.000000   \n",
       "max    25759.000000     81.000000    383.000000   6638.000000      3.000000   \n",
       "\n",
       "       user_birth_year  \n",
       "count     25760.000000  \n",
       "mean       1983.054969  \n",
       "std          10.010992  \n",
       "min        1901.000000  \n",
       "25%        1978.000000  \n",
       "50%        1985.000000  \n",
       "75%        1990.000000  \n",
       "max        2001.000000  "
      ]
     },
     "execution_count": 10,
     "metadata": {},
     "output_type": "execute_result"
    }
   ],
   "source": [
    "data.describe()"
   ]
  },
  {
   "cell_type": "code",
   "execution_count": 11,
   "id": "020535eb",
   "metadata": {},
   "outputs": [
    {
     "data": {
      "text/plain": [
       "False"
      ]
     },
     "execution_count": 11,
     "metadata": {},
     "output_type": "execute_result"
    }
   ],
   "source": [
    "data.duplicated().any()"
   ]
  },
  {
   "cell_type": "markdown",
   "id": "2155dd78",
   "metadata": {},
   "source": [
    "### Above cells' conclusion\n",
    "- Dataset has no `missing values`\n",
    "- Dataset has no `complete duplicates`\n",
    "- We remove `Unnamed: 0`\n",
    "- We remove `minutes` word from `duration` column\n",
    "- `user_birth_year` column has some invalid values\n",
    "- We must change some `columns` datatypes\n",
    "- Dataset has `25760` rows and `9` columns"
   ]
  },
  {
   "cell_type": "markdown",
   "id": "e2bcdfd3",
   "metadata": {},
   "source": [
    "### Cleaning"
   ]
  },
  {
   "cell_type": "code",
   "execution_count": 12,
   "id": "5c8d04f7",
   "metadata": {},
   "outputs": [],
   "source": [
    "# remove Unnamed: 0 column \n",
    "data.drop(columns = [\"Unnamed: 0\"], inplace = True)  "
   ]
  },
  {
   "cell_type": "code",
   "execution_count": 13,
   "id": "4ccea1da",
   "metadata": {},
   "outputs": [],
   "source": [
    "# discovering duration column\n",
    "\n",
    "data[\"duration\"] = data[\"duration\"].str.strip(\"minutes\") # remove minutes word \n",
    "data[\"duration\"] = data[\"duration\"].astype(\"int\") # convert duration column from object to integer"
   ]
  },
  {
   "cell_type": "code",
   "execution_count": 14,
   "id": "0bf0ab7c",
   "metadata": {},
   "outputs": [
    {
     "name": "stdout",
     "output_type": "stream",
     "text": [
      "Maximum is 1372, minimum is 1\n"
     ]
    }
   ],
   "source": [
    "# git max and min duration from A to B\n",
    "\n",
    "max_duration, mim_duration = data[\"duration\"].max(), data[\"duration\"].min()\n",
    "print(f\"Maximum is {max_duration}, minimum is {mim_duration}\")"
   ]
  },
  {
   "cell_type": "markdown",
   "id": "aec77a8d",
   "metadata": {},
   "source": [
    "#### The largest distance between the station `A` and station `B` \n",
    "- duration `1372` minutes\n",
    "\n",
    "#### The smallest distance between the station `A` and station `B` \n",
    "- duration `1` minutes\n",
    "\n",
    "#### The most common duration between the station `A` and station `B`\n",
    "- duration `7` minutes\n",
    "- Count is `2322`\n",
    "\n"
   ]
  },
  {
   "cell_type": "code",
   "execution_count": 41,
   "id": "46e14c1e",
   "metadata": {},
   "outputs": [],
   "source": [
    "# replace duration column with nan value where start, end station same\n",
    "\n",
    "for index in range(data.shape[0]):\n",
    "    if (data[\"station_A_id\"][index]) == (data[\"station_B_id\"][index]):\n",
    "        data[\"duration\"][index] = np.nan\n",
    "\n",
    "# replace nan value with max \n",
    "data[\"duration\"].fillna(max_duration, inplace = True) "
   ]
  },
  {
   "cell_type": "code",
   "execution_count": 16,
   "id": "767b42aa",
   "metadata": {},
   "outputs": [],
   "source": [
    "# convert type of column to integer\n",
    "\n",
    "data[\"duration\"] = data[\"duration\"].astype(int)"
   ]
  },
  {
   "cell_type": "markdown",
   "id": "d220ba70",
   "metadata": {},
   "source": [
    "### Above cells' conclusion\n",
    "- We replace `duration column` with `Nan value` if `station_A_id`, `station_B_id` same\n",
    "- We replace `Nan value` with `max value` \n",
    "- We convert `datatype` to `integer`"
   ]
  },
  {
   "cell_type": "code",
   "execution_count": 17,
   "id": "39b8488c",
   "metadata": {},
   "outputs": [
    {
     "data": {
      "text/plain": [
       "0"
      ]
     },
     "execution_count": 17,
     "metadata": {},
     "output_type": "execute_result"
    }
   ],
   "source": [
    "# discovering station_A_id column\n",
    "\n",
    "data[\"station_A_id\"].isna().sum() # Check nan values"
   ]
  },
  {
   "cell_type": "code",
   "execution_count": 18,
   "id": "21ed62d9",
   "metadata": {},
   "outputs": [
    {
     "data": {
      "text/plain": [
       "67    3635\n",
       "81    3030\n",
       "21    2998\n",
       "30    2933\n",
       "3     2899\n",
       "15    2812\n",
       "22    2561\n",
       "16    2506\n",
       "5     2386\n",
       "Name: station_A_id, dtype: int64"
      ]
     },
     "execution_count": 18,
     "metadata": {},
     "output_type": "execute_result"
    }
   ],
   "source": [
    "# output values count\n",
    "\n",
    "data[\"station_A_id\"].value_counts()"
   ]
  },
  {
   "cell_type": "markdown",
   "id": "dbb48b5d",
   "metadata": {},
   "source": [
    "### From the above, we have noticed that\n",
    "\n",
    "#### 1- We have `9` station people start with\n",
    "\n",
    "#### 2- The `most` common sation people start with\n",
    "- station id is `67`\n",
    "- number of bike is `3635`\n",
    "\n",
    "#### 3- The `lowest` common sation people start with\n",
    "- station id is `5`\n",
    "- number of bike is `2386`\n",
    "\n",
    "#### 4- We have `zero` nan value\n",
    "\n"
   ]
  },
  {
   "cell_type": "code",
   "execution_count": 19,
   "id": "83018197",
   "metadata": {},
   "outputs": [
    {
     "data": {
      "text/plain": [
       "0"
      ]
     },
     "execution_count": 19,
     "metadata": {},
     "output_type": "execute_result"
    }
   ],
   "source": [
    "# discovering station_B_id column\n",
    "\n",
    "data[\"station_B_id\"].isna().sum() # Check nan values"
   ]
  },
  {
   "cell_type": "code",
   "execution_count": 20,
   "id": "6bdf450f",
   "metadata": {},
   "outputs": [
    {
     "data": {
      "text/plain": [
       "6      1036\n",
       "30      922\n",
       "15      880\n",
       "58      839\n",
       "50      768\n",
       "       ... \n",
       "138       7\n",
       "362       3\n",
       "359       3\n",
       "54        2\n",
       "140       1\n",
       "Name: station_B_id, Length: 152, dtype: int64"
      ]
     },
     "execution_count": 20,
     "metadata": {},
     "output_type": "execute_result"
    }
   ],
   "source": [
    "# output values count\n",
    "\n",
    "data[\"station_B_id\"].value_counts()"
   ]
  },
  {
   "cell_type": "markdown",
   "id": "ac87fd0a",
   "metadata": {},
   "source": [
    "### From the above, we have noticed that\n",
    "\n",
    "#### 1- We have `152` station people finish with\n",
    "\n",
    "#### 2- The `most` common sation people finish with\n",
    "- station id is `6`\n",
    "- number of bike is `1036`\n",
    "\n",
    "#### 3- The `lowest` common sation people finish with\n",
    "- station id is `140`\n",
    "- number of bike is `1`\n",
    "\n",
    "#### 4- We have `zero` nan value"
   ]
  },
  {
   "cell_type": "code",
   "execution_count": 21,
   "id": "bb78b65e",
   "metadata": {},
   "outputs": [
    {
     "data": {
      "text/plain": [
       "0"
      ]
     },
     "execution_count": 21,
     "metadata": {},
     "output_type": "execute_result"
    }
   ],
   "source": [
    "# discovering bike_id column\n",
    "\n",
    "data[\"bike_id\"].isna().sum()"
   ]
  },
  {
   "cell_type": "code",
   "execution_count": 22,
   "id": "d069af45",
   "metadata": {},
   "outputs": [
    {
     "data": {
      "text/plain": [
       "4848    58\n",
       "5019    50\n",
       "5409    48\n",
       "5082    48\n",
       "5020    46\n",
       "        ..\n",
       "1456     1\n",
       "2012     1\n",
       "1533     1\n",
       "527      1\n",
       "5259     1\n",
       "Name: bike_id, Length: 1805, dtype: int64"
      ]
     },
     "execution_count": 22,
     "metadata": {},
     "output_type": "execute_result"
    }
   ],
   "source": [
    "# output values count\n",
    "\n",
    "data[\"bike_id\"].value_counts()"
   ]
  },
  {
   "cell_type": "code",
   "execution_count": 23,
   "id": "9171af44",
   "metadata": {},
   "outputs": [
    {
     "data": {
      "text/plain": [
       "1805"
      ]
     },
     "execution_count": 23,
     "metadata": {},
     "output_type": "execute_result"
    }
   ],
   "source": [
    "# How many bike participatory \n",
    "\n",
    "len(data[\"bike_id\"].unique())"
   ]
  },
  {
   "cell_type": "code",
   "execution_count": 24,
   "id": "7404150a",
   "metadata": {},
   "outputs": [
    {
     "data": {
      "text/plain": [
       "4848"
      ]
     },
     "execution_count": 24,
     "metadata": {},
     "output_type": "execute_result"
    }
   ],
   "source": [
    "# Bike id of the most used \n",
    "\n",
    "bikeId = data['bike_id'].mode()[0]\n",
    "bikeId"
   ]
  },
  {
   "cell_type": "code",
   "execution_count": 25,
   "id": "14d49d07",
   "metadata": {},
   "outputs": [
    {
     "data": {
      "text/html": [
       "<div>\n",
       "<style scoped>\n",
       "    .dataframe tbody tr th:only-of-type {\n",
       "        vertical-align: middle;\n",
       "    }\n",
       "\n",
       "    .dataframe tbody tr th {\n",
       "        vertical-align: top;\n",
       "    }\n",
       "\n",
       "    .dataframe thead th {\n",
       "        text-align: right;\n",
       "    }\n",
       "</style>\n",
       "<table border=\"1\" class=\"dataframe\">\n",
       "  <thead>\n",
       "    <tr style=\"text-align: right;\">\n",
       "      <th></th>\n",
       "      <th>duration</th>\n",
       "    </tr>\n",
       "  </thead>\n",
       "  <tbody>\n",
       "    <tr>\n",
       "      <th>count</th>\n",
       "      <td>58.000000</td>\n",
       "    </tr>\n",
       "    <tr>\n",
       "      <th>mean</th>\n",
       "      <td>31.655172</td>\n",
       "    </tr>\n",
       "    <tr>\n",
       "      <th>std</th>\n",
       "      <td>179.110429</td>\n",
       "    </tr>\n",
       "    <tr>\n",
       "      <th>min</th>\n",
       "      <td>2.000000</td>\n",
       "    </tr>\n",
       "    <tr>\n",
       "      <th>25%</th>\n",
       "      <td>6.000000</td>\n",
       "    </tr>\n",
       "    <tr>\n",
       "      <th>50%</th>\n",
       "      <td>8.000000</td>\n",
       "    </tr>\n",
       "    <tr>\n",
       "      <th>75%</th>\n",
       "      <td>11.000000</td>\n",
       "    </tr>\n",
       "    <tr>\n",
       "      <th>max</th>\n",
       "      <td>1372.000000</td>\n",
       "    </tr>\n",
       "  </tbody>\n",
       "</table>\n",
       "</div>"
      ],
      "text/plain": [
       "          duration\n",
       "count    58.000000\n",
       "mean     31.655172\n",
       "std     179.110429\n",
       "min       2.000000\n",
       "25%       6.000000\n",
       "50%       8.000000\n",
       "75%      11.000000\n",
       "max    1372.000000"
      ]
     },
     "execution_count": 25,
     "metadata": {},
     "output_type": "execute_result"
    }
   ],
   "source": [
    "# duration of bike that most used \n",
    "\n",
    "bikeMostUsed = data[data[\"bike_id\"] == bikeId]\n",
    "bikeMostUsed[[\"duration\"]].describe()"
   ]
  },
  {
   "cell_type": "markdown",
   "id": "6d262de3",
   "metadata": {},
   "source": [
    "### From the above, we have noticed that\n",
    "\n",
    "#### 1- We have `1805` bikes  participation\n",
    "\n",
    "#### 2- The `most` common bike participation\n",
    "- bike id is `4848`\n",
    "- number of participation is `58`\n",
    "\n",
    "#### 3- The `lowest` common bike participation\n",
    "- many bikes\n",
    "- number of participation is `1`\n",
    "\n",
    "#### 4- We have `zero` nan value\n"
   ]
  },
  {
   "cell_type": "code",
   "execution_count": 26,
   "id": "50b626e4",
   "metadata": {},
   "outputs": [
    {
     "data": {
      "text/plain": [
       "0"
      ]
     },
     "execution_count": 26,
     "metadata": {},
     "output_type": "execute_result"
    }
   ],
   "source": [
    "# discovering user_type column\n",
    "\n",
    "data[\"user_type\"].isna().sum()"
   ]
  },
  {
   "cell_type": "code",
   "execution_count": 27,
   "id": "c91cd625",
   "metadata": {},
   "outputs": [
    {
     "data": {
      "text/plain": [
       "array([2, 3, 1], dtype=int64)"
      ]
     },
     "execution_count": 27,
     "metadata": {},
     "output_type": "execute_result"
    }
   ],
   "source": [
    "# output unique value\n",
    "\n",
    "data[\"user_type\"].unique()"
   ]
  },
  {
   "cell_type": "code",
   "execution_count": 28,
   "id": "a19fdacb",
   "metadata": {},
   "outputs": [
    {
     "data": {
      "image/png": "[encoded data removed]",
      "text/plain": [
       "<Figure size 640x480 with 1 Axes>"
      ]
     },
     "metadata": {},
     "output_type": "display_data"
    }
   ],
   "source": [
    "data[\"user_type\"].hist()\n",
    "plt.show()"
   ]
  },
  {
   "cell_type": "markdown",
   "id": "31b9aa53",
   "metadata": {},
   "source": [
    "### From the above, we have noticed that\n",
    "\n",
    "#### 1-  We have `1` `2` `3` values\n",
    "- 1 `mean have a annual subscription`\n",
    "- 2 `mean have a monthly subscription`\n",
    "- 3 `mean have a daily subscription`\n",
    "\n",
    "#### 2- The `most` common subscription\n",
    "- `monthly` subscription\n",
    "- number of people is greater than `12000`\n",
    "\n",
    "#### 3- The `lowest` common subscription\n",
    "- `annual` subscription\n",
    "- number of people is greater than `6000`\n",
    "\n",
    "#### 4- We have `zero` nan value"
   ]
  },
  {
   "cell_type": "code",
   "execution_count": 29,
   "id": "2dc8989d",
   "metadata": {},
   "outputs": [],
   "source": [
    "# discovering user_birth_year column\n",
    "\n",
    "age = data[\"user_birth_year\"].unique().tolist() # create list of unique birth year"
   ]
  },
  {
   "cell_type": "code",
   "execution_count": 30,
   "id": "0aa628c5",
   "metadata": {},
   "outputs": [
    {
     "data": {
      "text/plain": [
       "0"
      ]
     },
     "execution_count": 30,
     "metadata": {},
     "output_type": "execute_result"
    }
   ],
   "source": [
    "# check nan value\n",
    "\n",
    "data[\"user_birth_year\"].isna().sum()"
   ]
  },
  {
   "cell_type": "code",
   "execution_count": 31,
   "id": "bc7d31eb",
   "metadata": {},
   "outputs": [
    {
     "data": {
      "image/png": "[encoded data removed]",
      "text/plain": [
       "<Figure size 640x480 with 1 Axes>"
      ]
     },
     "metadata": {},
     "output_type": "display_data"
    }
   ],
   "source": [
    "# discovering outliers\n",
    "\n",
    "plt.scatter(x= data[\"user_birth_year\"].unique(), y= data[\"user_birth_year\"].value_counts()) # show outliers\n",
    "plt.show()\n"
   ]
  },
  {
   "cell_type": "code",
   "execution_count": 32,
   "id": "a0f4fd54",
   "metadata": {},
   "outputs": [],
   "source": [
    "# Calculating outliers\n",
    "\n",
    "age.sort()\n",
    "Q1,Q2,Q3 = 1978.000000, 1985.000000, 1990.000000\n",
    "IQR = Q3 - Q1\n",
    "upper = Q3 + (1.5 * IQR)\n",
    "lower = Q1 - (1.5 * IQR)\n",
    "\n",
    "# replace outliers values with nan\n",
    "data.loc[(data[\"user_birth_year\"] > upper) | (data[\"user_birth_year\"] < lower), \"user_birth_year\"] = np.nan"
   ]
  },
  {
   "cell_type": "code",
   "execution_count": 33,
   "id": "f77901cd",
   "metadata": {},
   "outputs": [],
   "source": [
    "# replace nan value with mean\n",
    "\n",
    "mean = data[\"user_birth_year\"].mean()\n",
    "data[\"user_birth_year\"].fillna(mean, inplace = True)"
   ]
  },
  {
   "cell_type": "code",
   "execution_count": 34,
   "id": "c78fa64e",
   "metadata": {},
   "outputs": [
    {
     "data": {
      "image/png": "[encoded data removed]",
      "text/plain": [
       "<Figure size 640x480 with 1 Axes>"
      ]
     },
     "metadata": {},
     "output_type": "display_data"
    }
   ],
   "source": [
    "# show distribution \n",
    "\n",
    "data[\"user_birth_year\"].hist()\n",
    "plt.show()"
   ]
  },
  {
   "cell_type": "markdown",
   "id": "07cdc064",
   "metadata": {},
   "source": [
    "### From the above, we have noticed that\n",
    "\n",
    "#### `user_birth_year` need some modifications\n",
    "- We need to rplace `outliers` with mean value\n",
    "- We will Calculating `outliers`\n",
    "- we Will replace `outliers` values with `np.nan`\n",
    "\n",
    "#### Most `user_birth_year` between `1980` and `1995`"
   ]
  },
  {
   "cell_type": "code",
   "execution_count": 35,
   "id": "99165b09",
   "metadata": {},
   "outputs": [
    {
     "data": {
      "text/plain": [
       "1983.8082726223176"
      ]
     },
     "execution_count": 35,
     "metadata": {},
     "output_type": "execute_result"
    }
   ],
   "source": [
    "data[\"user_birth_year\"].mean()"
   ]
  },
  {
   "cell_type": "code",
   "execution_count": 36,
   "id": "d36916b3",
   "metadata": {},
   "outputs": [
    {
     "data": {
      "text/plain": [
       "array(['Male', 'Female', 'Other'], dtype=object)"
      ]
     },
     "execution_count": 36,
     "metadata": {},
     "output_type": "execute_result"
    }
   ],
   "source": [
    "# discovering user_gender column\n",
    "\n",
    "data[\"user_gender\"].unique()"
   ]
  },
  {
   "cell_type": "code",
   "execution_count": 37,
   "id": "bd9d73c3",
   "metadata": {},
   "outputs": [
    {
     "data": {
      "text/plain": [
       "0"
      ]
     },
     "execution_count": 37,
     "metadata": {},
     "output_type": "execute_result"
    }
   ],
   "source": [
    "# check nan value\n",
    "\n",
    "data[\"user_gender\"].isna().sum()"
   ]
  },
  {
   "cell_type": "code",
   "execution_count": 38,
   "id": "2464f123",
   "metadata": {},
   "outputs": [
    {
     "data": {
      "text/plain": [
       "Male      19382\n",
       "Female     6027\n",
       "Other       351\n",
       "Name: user_gender, dtype: int64"
      ]
     },
     "execution_count": 38,
     "metadata": {},
     "output_type": "execute_result"
    }
   ],
   "source": [
    "# output values count\n",
    "\n",
    "data[\"user_gender\"].value_counts()"
   ]
  },
  {
   "cell_type": "code",
   "execution_count": 39,
   "id": "b16f7314",
   "metadata": {},
   "outputs": [
    {
     "data": {
      "image/png": "[encoded data removed]",
      "text/plain": [
       "<Figure size 640x480 with 1 Axes>"
      ]
     },
     "metadata": {},
     "output_type": "display_data"
    }
   ],
   "source": [
    "data[\"user_gender\"].hist()\n",
    "plt.show()"
   ]
  },
  {
   "cell_type": "markdown",
   "id": "5d92531d",
   "metadata": {},
   "source": [
    "### From the above, we have noticed that\n",
    "\n",
    "#### 1-  We have `Male`, `Female`, `Other`  values\n",
    "\n",
    "#### 2- The `most` common gender\n",
    "- `Male` gender\n",
    "- number of male is `19382`\n",
    "\n",
    "#### 3- The `lowest` common gender\n",
    "- `Other` gender\n",
    "- number of other gender is `351`\n",
    "\n",
    "#### 4- We have `zero` nan value"
   ]
  }
 ],
 "metadata": {
  "kernelspec": {
   "display_name": "Python 3 (ipykernel)",
   "language": "python",
   "name": "python3"
  },
  "language_info": {
   "codemirror_mode": {
    "name": "ipython",
    "version": 3
   },
   "file_extension": ".py",
   "mimetype": "text/x-python",
   "name": "python",
   "nbconvert_exporter": "python",
   "pygments_lexer": "ipython3",
   "version": "3.10.9"
  }
 },
 "nbformat": 4,
 "nbformat_minor": 5
}
